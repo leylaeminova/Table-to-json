{
  "nbformat": 4,
  "nbformat_minor": 0,
  "metadata": {
    "colab": {
      "provenance": []
    },
    "kernelspec": {
      "name": "python3",
      "display_name": "Python 3"
    },
    "language_info": {
      "name": "python"
    }
  },
  "cells": [
    {
      "cell_type": "code",
      "source": [
        "!pip install mammoth"
      ],
      "metadata": {
        "id": "BF9cZgqMtp5n"
      },
      "execution_count": null,
      "outputs": []
    },
    {
      "cell_type": "code",
      "execution_count": null,
      "metadata": {
        "id": "MdhCgd14tlQB"
      },
      "outputs": [],
      "source": [
        "import mammoth\n",
        "from bs4 import BeautifulSoup\n",
        "import json"
      ]
    },
    {
      "cell_type": "code",
      "source": [
        "# converting docx to html file\n",
        "with open(\"/content/convertedword.docx\", \"rb\") as docx_file:\n",
        "    result = mammoth.convert_to_html(docx_file)\n",
        "with open(\"sample.html\", \"w\") as html_file:\n",
        "    html_file.write(result.value)"
      ],
      "metadata": {
        "id": "0MNGznqSL5Yl"
      },
      "execution_count": null,
      "outputs": []
    },
    {
      "cell_type": "code",
      "source": [
        "html_file_path = '/content/sample.html'\n",
        "\n",
        "with open(html_file_path, 'r', encoding='utf-8') as file:\n",
        "    html_content = file.read()\n",
        "\n",
        "soup = BeautifulSoup(html_content, 'html.parser')\n"
      ],
      "metadata": {
        "id": "HCksS0Kzzkm1"
      },
      "execution_count": null,
      "outputs": []
    },
    {
      "cell_type": "code",
      "source": [
        "table_data_list = []\n",
        "tables = soup.find_all('table')\n",
        "\n",
        "for table in tables:\n",
        "    table_data = []\n",
        "    headers = [] #headers for your table\n",
        "    for row in table.find_all('tr')[1:]:\n",
        "        row_data = [cell.text.strip() for cell in row.find_all('td')]\n",
        "        table_data.append(dict(zip(headers, row_data)))\n",
        "    table_data_list.append(table_data)\n",
        "\n",
        "\n",
        "json_data = json.dumps(table_data_list, indent=4)\n",
        "\n"
      ],
      "metadata": {
        "id": "EjvdCo7n0UAI"
      },
      "execution_count": null,
      "outputs": []
    },
    {
      "cell_type": "code",
      "source": [
        "with open('data.json', 'w') as json_file:\n",
        "    json.dump(table_data_list, json_file, indent=4)"
      ],
      "metadata": {
        "id": "C-i9OcnaD78c"
      },
      "execution_count": null,
      "outputs": []
    }
  ]
}