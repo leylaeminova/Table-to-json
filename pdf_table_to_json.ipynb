{
  "nbformat": 4,
  "nbformat_minor": 0,
  "metadata": {
    "colab": {
      "provenance": []
    },
    "kernelspec": {
      "name": "python3",
      "display_name": "Python 3"
    },
    "language_info": {
      "name": "python"
    }
  },
  "cells": [
    {
      "cell_type": "markdown",
      "metadata": {
        "id": "TkyND3wwdX3x"
      },
      "source": [
        "First, we need to install some dependencies and import necessary libraries."
      ]
    },
    {
      "cell_type": "code",
      "metadata": {
        "id": "sBl8EFSDPFR0"
      },
      "source": [
        "! apt install tesseract-ocr\n",
        "! apt install libtesseract-dev"
      ],
      "execution_count": null,
      "outputs": []
    },
    {
      "cell_type": "code",
      "metadata": {
        "id": "RWdJNvEfOpWb"
      },
      "source": [
        "!pip install pytesseract"
      ],
      "execution_count": null,
      "outputs": []
    },
    {
      "cell_type": "code",
      "metadata": {
        "id": "paGWcxHCRSDE"
      },
      "source": [
        "!apt install ghostscript"
      ],
      "execution_count": null,
      "outputs": []
    },
    {
      "cell_type": "code",
      "metadata": {
        "id": "-r5OBayiN0AJ"
      },
      "source": [
        "!pip install ocrmypdf"
      ],
      "execution_count": null,
      "outputs": []
    },
    {
      "cell_type": "code",
      "metadata": {
        "id": "HYDNbBrEN_GZ"
      },
      "source": [
        "!ocrmypdf --help"
      ],
      "execution_count": null,
      "outputs": []
    },
    {
      "cell_type": "code",
      "source": [
        "!pip install tabula-py"
      ],
      "metadata": {
        "id": "cQTC7qFaxPyu"
      },
      "execution_count": null,
      "outputs": []
    },
    {
      "cell_type": "code",
      "metadata": {
        "id": "6vVNOL-yYhb2"
      },
      "source": [
        "import pandas as pd\n",
        "# %load_ext google.colab.data_table\n",
        "import os\n",
        "import tabula\n",
        "import json"
      ],
      "execution_count": null,
      "outputs": []
    },
    {
      "cell_type": "code",
      "metadata": {
        "id": "i-VxYtJ-jARe"
      },
      "source": [
        "!mkdir input_pdf #making directories for pdf files\n",
        "!mkdir output_pdf"
      ],
      "execution_count": null,
      "outputs": []
    },
    {
      "cell_type": "markdown",
      "source": [
        "The sample pdf file is scanned image. If we want to parse table from it, we need to convert it to text pdf. This can be done with the help of ocrmypdf library:"
      ],
      "metadata": {
        "id": "Ai6n619drmrC"
      }
    },
    {
      "cell_type": "code",
      "source": [
        "input_folder_path = \"/content/input_pdf\"\n",
        "output_folder_path = \"/content/output_pdf\"\n",
        "\n",
        "def convert_pdf(filename):\n",
        "  if filename.endswith(\".pdf\"):\n",
        "      input_filename = os.path.join(input_folder_path, filename)\n",
        "      output_filename = os.path.join(output_folder_path, filename)\n",
        "\n",
        "      print(\"Converting: \" + filename)\n",
        "      !ocrmypdf --force-ocr \"{input_filename}\" \"{output_filename}\"\n",
        "  else:\n",
        "      print(\"The specified file is not a PDF.\")\n",
        "  return output_filename\n",
        "filename = \"Sample_pdf.pdf\"\n",
        "\n",
        "output_filename = convert_pdf(filename)"
      ],
      "metadata": {
        "colab": {
          "base_uri": "https://localhost:8080/"
        },
        "id": "ORGiUsMJoriV",
        "outputId": "7500ab5b-bbcd-442c-c3f8-0c855650f338"
      },
      "execution_count": null,
      "outputs": [
        {
          "output_type": "stream",
          "name": "stdout",
          "text": [
            "Converting: Sample_pdf.pdf\n",
            "\u001b[2KScanning contents     \u001b[90m━━━━━━━━━━━━━━━━━━━━━━━━━━━━━━━━━━━━━━━━\u001b[0m \u001b[35m100%\u001b[0m \u001b[32m2/2\u001b[0m \u001b[36m0:00:00\u001b[0m\n",
            "\u001b[?25hStart processing \u001b[1;36m2\u001b[0m pages concurrently                                                      \u001b]8;id=800055;file:///usr/local/lib/python3.10/dist-packages/ocrmypdf/_pipelines/ocr.py\u001b\\\u001b[2mocr.py\u001b[0m\u001b]8;;\u001b\\\u001b[2m:\u001b[0m\u001b]8;id=547191;file:///usr/local/lib/python3.10/dist-packages/ocrmypdf/_pipelines/ocr.py#98\u001b\\\u001b[2m98\u001b[0m\u001b]8;;\u001b\\\n",
            "\u001b[2K    \u001b[1;36m2\u001b[0m page has no images - all vector content will be rasterized at \u001b[1;36m400\u001b[0m DPI, losing \u001b]8;id=309517;file:///usr/local/lib/python3.10/dist-packages/ocrmypdf/_pipeline.py\u001b\\\u001b[2m_pipeline.py\u001b[0m\u001b]8;;\u001b\\\u001b[2m:\u001b[0m\u001b]8;id=403097;file:///usr/local/lib/python3.10/dist-packages/ocrmypdf/_pipeline.py#336\u001b\\\u001b[2m336\u001b[0m\u001b]8;;\u001b\\\n",
            "some resolution and likely increasing file size. Use --oversample to adjust the     \u001b[2m                \u001b[0m\n",
            "DPI.                                                                                \u001b[2m                \u001b[0m\n",
            "\u001b[2KOCR                   \u001b[90m━━━━━━━━━━━━━━━━━━━━━━━━━━━━━━━━━━━━━━━━\u001b[0m \u001b[35m100%\u001b[0m \u001b[32m2/2\u001b[0m \u001b[36m0:00:00\u001b[0m\n",
            "\u001b[?25hPostprocessing\u001b[33m...\u001b[0m                                                                         \u001b]8;id=709585;file:///usr/local/lib/python3.10/dist-packages/ocrmypdf/_pipelines/ocr.py\u001b\\\u001b[2mocr.py\u001b[0m\u001b]8;;\u001b\\\u001b[2m:\u001b[0m\u001b]8;id=972888;file:///usr/local/lib/python3.10/dist-packages/ocrmypdf/_pipelines/ocr.py#147\u001b\\\u001b[2m147\u001b[0m\u001b]8;;\u001b\\\n",
            "\u001b[2KRecompressing JPEGs   \u001b[90m━━━━━━━━━━━━━━━━━━━━━━━━━━━━━━━━━━━━━━━━\u001b[0m \u001b[35m  0%\u001b[0m \u001b[32m0/0\u001b[0m \u001b[36m-:--:--\u001b[0m\n",
            "\u001b[2KDeflating JPEGs       \u001b[90m━━━━━━━━━━━━━━━━━━━━━━━━━━━━━━━━━━━━━━━━\u001b[0m \u001b[35m100%\u001b[0m \u001b[32m1/1\u001b[0m \u001b[36m0:00:00\u001b[0m\n",
            "\u001b[2KJBIG2                 \u001b[90m━━━━━━━━━━━━━━━━━━━━━━━━━━━━━━━━━━━━━━━━\u001b[0m \u001b[35m  0%\u001b[0m \u001b[32m0/0\u001b[0m \u001b[36m-:--:--\u001b[0m\n",
            "\u001b[?25hImage optimization ratio: \u001b[1;36m1.57\u001b[0m savings: \u001b[1;36m36.3\u001b[0m%                                       \u001b]8;id=493875;file:///usr/local/lib/python3.10/dist-packages/ocrmypdf/_pipeline.py\u001b\\\u001b[2m_pipeline.py\u001b[0m\u001b]8;;\u001b\\\u001b[2m:\u001b[0m\u001b]8;id=707171;file:///usr/local/lib/python3.10/dist-packages/ocrmypdf/_pipeline.py#904\u001b\\\u001b[2m904\u001b[0m\u001b]8;;\u001b\\\n",
            "Total file size ratio: \u001b[1;36m0.41\u001b[0m savings: \u001b[1;36m-146.8\u001b[0m%                                        \u001b]8;id=103120;file:///usr/local/lib/python3.10/dist-packages/ocrmypdf/_pipeline.py\u001b\\\u001b[2m_pipeline.py\u001b[0m\u001b]8;;\u001b\\\u001b[2m:\u001b[0m\u001b]8;id=485558;file:///usr/local/lib/python3.10/dist-packages/ocrmypdf/_pipeline.py#907\u001b\\\u001b[2m907\u001b[0m\u001b]8;;\u001b\\\n",
            "Output file is a PDF/A-2B \u001b[1m(\u001b[0mas expected\u001b[1m)\u001b[0m                                               \u001b]8;id=973927;file:///usr/local/lib/python3.10/dist-packages/ocrmypdf/_pipelines/_common.py\u001b\\\u001b[2m_common.py\u001b[0m\u001b]8;;\u001b\\\u001b[2m:\u001b[0m\u001b]8;id=669538;file:///usr/local/lib/python3.10/dist-packages/ocrmypdf/_pipelines/_common.py#425\u001b\\\u001b[2m425\u001b[0m\u001b]8;;\u001b\\\n",
            "The output file size is \u001b[1;36m2.47\u001b[0m× larger than the input file.                         \u001b]8;id=446755;file:///usr/local/lib/python3.10/dist-packages/ocrmypdf/_validation.py\u001b\\\u001b[2m_validation.py\u001b[0m\u001b]8;;\u001b\\\u001b[2m:\u001b[0m\u001b]8;id=502987;file:///usr/local/lib/python3.10/dist-packages/ocrmypdf/_validation.py#375\u001b\\\u001b[2m375\u001b[0m\u001b]8;;\u001b\\\n",
            "Possible reasons for this include:                                                \u001b[2m                  \u001b[0m\n",
            "--force-ocr was issued, causing transcoding.                                      \u001b[2m                  \u001b[0m\n",
            "The optional dependency \u001b[32m'jbig2'\u001b[0m was not found, so some image optimizations could  \u001b[2m                  \u001b[0m\n",
            "not be attempted.                                                                 \u001b[2m                  \u001b[0m\n",
            "The optional dependency \u001b[32m'pngquant'\u001b[0m was not found, so some image optimizations     \u001b[2m                  \u001b[0m\n",
            "could not be attempted.                                                           \u001b[2m                  \u001b[0m\n",
            "PDF/A conversion was enabled. \u001b[1m(\u001b[0mTry `--output-type pdf`.\u001b[1m)\u001b[0m                          \u001b[2m                  \u001b[0m\n",
            "                                                                                  \u001b[2m                  \u001b[0m\n"
          ]
        }
      ]
    },
    {
      "cell_type": "markdown",
      "source": [
        "Now, we can easily extract our table with the help of tabula and do some basic cleaning steps before converting it to json. A function to do it all:"
      ],
      "metadata": {
        "id": "yGj_WUmkr5Fn"
      }
    },
    {
      "cell_type": "code",
      "source": [
        "def parse_pdf(filepath):\n",
        "  json_data_list = []\n",
        "  tables = tabula.read_pdf(filepath, pages=\"all\")\n",
        "  for table in tables:\n",
        "    table = table.loc[:, ~table.columns.str.startswith('Unnamed')]\n",
        "    table_data = table.to_dict(orient='records')\n",
        "\n",
        "    json_data_list.append(table_data)\n",
        "\n",
        "  json_data = json.dumps(json_data_list, indent=4)\n",
        "\n",
        "  with open(\"output.json\", \"w\") as json_file:\n",
        "      json_file.write(json_data)"
      ],
      "metadata": {
        "id": "vDNzZIpnql_b"
      },
      "execution_count": null,
      "outputs": []
    },
    {
      "cell_type": "code",
      "source": [
        "parse_pdf(output_filename)"
      ],
      "metadata": {
        "id": "ozK4Dfz-rAQH"
      },
      "execution_count": null,
      "outputs": []
    }
  ]
}